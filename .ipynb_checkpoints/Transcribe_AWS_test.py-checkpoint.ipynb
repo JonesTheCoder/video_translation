{
 "cells": [
  {
   "cell_type": "code",
   "execution_count": 1,
   "metadata": {
    "collapsed": true
   },
   "outputs": [],
   "source": [
    "import boto3\n",
    "import uuid\n",
    "import requests"
   ]
  },
  {
   "cell_type": "code",
   "execution_count": 37,
   "metadata": {
    "collapsed": true
   },
   "outputs": [],
   "source": [
    "def createTranscribeJob( region, bucket, mediaFile ):\n",
    "\n",
    "\t# Set up the Transcribe client \n",
    "\ttranscribe = boto3.client('transcribe')\n",
    "\t\n",
    "\t# Set up the full uri for the bucket and media file\n",
    "\tmediaUri = \"https://\" + \"s3-\" + region + \".amazonaws.com/\" + bucket + \"/\" + mediaFile \n",
    "\t\n",
    "\tprint( \"Creating Job: \" + \"transcribe \" + mediaFile + \" for \" + mediaUri )\n",
    "\t\n",
    "\t# Use the uuid functionality to generate a unique job name.  Otherwise, the Transcribe service will return an error\n",
    "\tresponse = transcribe.start_transcription_job( TranscriptionJobName=\"transcribe_\" + uuid.uuid4().hex + \"_\" + mediaFile , \\\n",
    "\t\tLanguageCode = \"en-US\", \\\n",
    "\t\tMediaFormat = \"mp4\", \\\n",
    "\t\tMedia = { \"MediaFileUri\" : mediaUri }, \\\n",
    "\t\tSettings = { \"VocabularyName\" : \"jpjvocabulary\" } \\\n",
    "\t\t)\n",
    "\t\n",
    "\t# return the response structure found in the Transcribe Documentation\n",
    "\treturn response\n",
    "\t"
   ]
  },
  {
   "cell_type": "code",
   "execution_count": 38,
   "metadata": {
    "collapsed": true
   },
   "outputs": [],
   "source": [
    "def getTranscriptionJobStatus( jobName ):\n",
    "\ttranscribe = boto3.client('transcribe')\n",
    "\t\n",
    "\tresponse = transcribe.get_transcription_job( TranscriptionJobName=jobName )\n",
    "\treturn response\n",
    "\t"
   ]
  },
  {
   "cell_type": "code",
   "execution_count": 39,
   "metadata": {
    "collapsed": true
   },
   "outputs": [],
   "source": [
    "def getTranscript( transcriptURI ):\n",
    "\t# Get the resulting Transcription Job and store the JSON response in transcript\n",
    "\tresult = requests.get( transcriptURI )\n",
    "\n",
    "\treturn result.text"
   ]
  },
  {
   "cell_type": "code",
   "execution_count": 40,
   "metadata": {},
   "outputs": [
    {
     "name": "stdout",
     "output_type": "stream",
     "text": [
      "Creating Job: transcribe video_2.mp4 for https://s3-us-west-2.amazonaws.com/videotranslationjpj/video_2.mp4\n"
     ]
    },
    {
     "ename": "BadRequestException",
     "evalue": "An error occurred (BadRequestException) when calling the StartTranscriptionJob operation: The requested vocabulary couldn't be found. Check the vocabulary name and try your request again.",
     "output_type": "error",
     "traceback": [
      "\u001b[0;31m---------------------------------------------------------------------------\u001b[0m",
      "\u001b[0;31mBadRequestException\u001b[0m                       Traceback (most recent call last)",
      "\u001b[0;32m<ipython-input-40-a85d06439770>\u001b[0m in \u001b[0;36m<module>\u001b[0;34m()\u001b[0m\n\u001b[0;32m----> 1\u001b[0;31m \u001b[0mcreateTranscribeJob\u001b[0m\u001b[0;34m(\u001b[0m\u001b[0;34m\"us-west-2\"\u001b[0m\u001b[0;34m,\u001b[0m \u001b[0;34m\"videotranslationjpj\"\u001b[0m\u001b[0;34m,\u001b[0m \u001b[0;34m\"video_2.mp4\"\u001b[0m\u001b[0;34m)\u001b[0m\u001b[0;34m\u001b[0m\u001b[0m\n\u001b[0m",
      "\u001b[0;32m<ipython-input-37-d1345e8c38d1>\u001b[0m in \u001b[0;36mcreateTranscribeJob\u001b[0;34m(region, bucket, mediaFile)\u001b[0m\n\u001b[1;32m     10\u001b[0m \u001b[0;34m\u001b[0m\u001b[0m\n\u001b[1;32m     11\u001b[0m         \u001b[0;31m# Use the uuid functionality to generate a unique job name.  Otherwise, the Transcribe service will return an error\u001b[0m\u001b[0;34m\u001b[0m\u001b[0;34m\u001b[0m\u001b[0m\n\u001b[0;32m---> 12\u001b[0;31m         \u001b[0mresponse\u001b[0m \u001b[0;34m=\u001b[0m \u001b[0mtranscribe\u001b[0m\u001b[0;34m.\u001b[0m\u001b[0mstart_transcription_job\u001b[0m\u001b[0;34m(\u001b[0m \u001b[0mTranscriptionJobName\u001b[0m\u001b[0;34m=\u001b[0m\u001b[0;34m\"transcribe_\"\u001b[0m \u001b[0;34m+\u001b[0m \u001b[0muuid\u001b[0m\u001b[0;34m.\u001b[0m\u001b[0muuid4\u001b[0m\u001b[0;34m(\u001b[0m\u001b[0;34m)\u001b[0m\u001b[0;34m.\u001b[0m\u001b[0mhex\u001b[0m \u001b[0;34m+\u001b[0m \u001b[0;34m\"_\"\u001b[0m \u001b[0;34m+\u001b[0m \u001b[0mmediaFile\u001b[0m \u001b[0;34m,\u001b[0m\u001b[0mLanguageCode\u001b[0m \u001b[0;34m=\u001b[0m \u001b[0;34m\"en-US\"\u001b[0m\u001b[0;34m,\u001b[0m \u001b[0mMediaFormat\u001b[0m \u001b[0;34m=\u001b[0m \u001b[0;34m\"mp4\"\u001b[0m\u001b[0;34m,\u001b[0m \u001b[0mMedia\u001b[0m \u001b[0;34m=\u001b[0m \u001b[0;34m{\u001b[0m \u001b[0;34m\"MediaFileUri\"\u001b[0m \u001b[0;34m:\u001b[0m \u001b[0mmediaUri\u001b[0m \u001b[0;34m}\u001b[0m\u001b[0;34m,\u001b[0m \u001b[0mSettings\u001b[0m \u001b[0;34m=\u001b[0m \u001b[0;34m{\u001b[0m \u001b[0;34m\"VocabularyName\"\u001b[0m \u001b[0;34m:\u001b[0m \u001b[0;34m\"jpjvocabulary\"\u001b[0m \u001b[0;34m}\u001b[0m         \u001b[0;34m)\u001b[0m\u001b[0;34m\u001b[0m\u001b[0m\n\u001b[0m\u001b[1;32m     13\u001b[0m \u001b[0;34m\u001b[0m\u001b[0m\n\u001b[1;32m     14\u001b[0m         \u001b[0;31m# return the response structure found in the Transcribe Documentation\u001b[0m\u001b[0;34m\u001b[0m\u001b[0;34m\u001b[0m\u001b[0m\n",
      "\u001b[0;32m/anaconda/lib/python3.6/site-packages/botocore/client.py\u001b[0m in \u001b[0;36m_api_call\u001b[0;34m(self, *args, **kwargs)\u001b[0m\n\u001b[1;32m    312\u001b[0m                     \"%s() only accepts keyword arguments.\" % py_operation_name)\n\u001b[1;32m    313\u001b[0m             \u001b[0;31m# The \"self\" in this scope is referring to the BaseClient.\u001b[0m\u001b[0;34m\u001b[0m\u001b[0;34m\u001b[0m\u001b[0m\n\u001b[0;32m--> 314\u001b[0;31m             \u001b[0;32mreturn\u001b[0m \u001b[0mself\u001b[0m\u001b[0;34m.\u001b[0m\u001b[0m_make_api_call\u001b[0m\u001b[0;34m(\u001b[0m\u001b[0moperation_name\u001b[0m\u001b[0;34m,\u001b[0m \u001b[0mkwargs\u001b[0m\u001b[0;34m)\u001b[0m\u001b[0;34m\u001b[0m\u001b[0m\n\u001b[0m\u001b[1;32m    315\u001b[0m \u001b[0;34m\u001b[0m\u001b[0m\n\u001b[1;32m    316\u001b[0m         \u001b[0m_api_call\u001b[0m\u001b[0;34m.\u001b[0m\u001b[0m__name__\u001b[0m \u001b[0;34m=\u001b[0m \u001b[0mstr\u001b[0m\u001b[0;34m(\u001b[0m\u001b[0mpy_operation_name\u001b[0m\u001b[0;34m)\u001b[0m\u001b[0;34m\u001b[0m\u001b[0m\n",
      "\u001b[0;32m/anaconda/lib/python3.6/site-packages/botocore/client.py\u001b[0m in \u001b[0;36m_make_api_call\u001b[0;34m(self, operation_name, api_params)\u001b[0m\n\u001b[1;32m    610\u001b[0m             \u001b[0merror_code\u001b[0m \u001b[0;34m=\u001b[0m \u001b[0mparsed_response\u001b[0m\u001b[0;34m.\u001b[0m\u001b[0mget\u001b[0m\u001b[0;34m(\u001b[0m\u001b[0;34m\"Error\"\u001b[0m\u001b[0;34m,\u001b[0m \u001b[0;34m{\u001b[0m\u001b[0;34m}\u001b[0m\u001b[0;34m)\u001b[0m\u001b[0;34m.\u001b[0m\u001b[0mget\u001b[0m\u001b[0;34m(\u001b[0m\u001b[0;34m\"Code\"\u001b[0m\u001b[0;34m)\u001b[0m\u001b[0;34m\u001b[0m\u001b[0m\n\u001b[1;32m    611\u001b[0m             \u001b[0merror_class\u001b[0m \u001b[0;34m=\u001b[0m \u001b[0mself\u001b[0m\u001b[0;34m.\u001b[0m\u001b[0mexceptions\u001b[0m\u001b[0;34m.\u001b[0m\u001b[0mfrom_code\u001b[0m\u001b[0;34m(\u001b[0m\u001b[0merror_code\u001b[0m\u001b[0;34m)\u001b[0m\u001b[0;34m\u001b[0m\u001b[0m\n\u001b[0;32m--> 612\u001b[0;31m             \u001b[0;32mraise\u001b[0m \u001b[0merror_class\u001b[0m\u001b[0;34m(\u001b[0m\u001b[0mparsed_response\u001b[0m\u001b[0;34m,\u001b[0m \u001b[0moperation_name\u001b[0m\u001b[0;34m)\u001b[0m\u001b[0;34m\u001b[0m\u001b[0m\n\u001b[0m\u001b[1;32m    613\u001b[0m         \u001b[0;32melse\u001b[0m\u001b[0;34m:\u001b[0m\u001b[0;34m\u001b[0m\u001b[0m\n\u001b[1;32m    614\u001b[0m             \u001b[0;32mreturn\u001b[0m \u001b[0mparsed_response\u001b[0m\u001b[0;34m\u001b[0m\u001b[0m\n",
      "\u001b[0;31mBadRequestException\u001b[0m: An error occurred (BadRequestException) when calling the StartTranscriptionJob operation: The requested vocabulary couldn't be found. Check the vocabulary name and try your request again."
     ]
    }
   ],
   "source": [
    "createTranscribeJob(\"us-west-2\", \"videotranslationjpj\", \"video_2.mp4\")"
   ]
  },
  {
   "cell_type": "code",
   "execution_count": 41,
   "metadata": {},
   "outputs": [
    {
     "name": "stdout",
     "output_type": "stream",
     "text": [
      "Creating Job: transcribe video_2.mp4 for https://s3-us-west-2.amazonaws.com/videotranslationjpj/video_2.mp4\n"
     ]
    },
    {
     "ename": "BadRequestException",
     "evalue": "An error occurred (BadRequestException) when calling the StartTranscriptionJob operation: The requested vocabulary couldn't be found. Check the vocabulary name and try your request again.",
     "output_type": "error",
     "traceback": [
      "\u001b[0;31m---------------------------------------------------------------------------\u001b[0m",
      "\u001b[0;31mBadRequestException\u001b[0m                       Traceback (most recent call last)",
      "\u001b[0;32m<ipython-input-41-4d6685899064>\u001b[0m in \u001b[0;36m<module>\u001b[0;34m()\u001b[0m\n\u001b[1;32m      1\u001b[0m \u001b[0;31m# Create Transcription Job\u001b[0m\u001b[0;34m\u001b[0m\u001b[0;34m\u001b[0m\u001b[0m\n\u001b[0;32m----> 2\u001b[0;31m \u001b[0mresponse\u001b[0m \u001b[0;34m=\u001b[0m \u001b[0mcreateTranscribeJob\u001b[0m\u001b[0;34m(\u001b[0m\u001b[0;34m\"us-west-2\"\u001b[0m\u001b[0;34m,\u001b[0m \u001b[0;34m\"videotranslationjpj\"\u001b[0m\u001b[0;34m,\u001b[0m \u001b[0;34m\"video_2.mp4\"\u001b[0m\u001b[0;34m)\u001b[0m\u001b[0;34m\u001b[0m\u001b[0m\n\u001b[0m\u001b[1;32m      3\u001b[0m \u001b[0;34m\u001b[0m\u001b[0m\n\u001b[1;32m      4\u001b[0m \u001b[0;31m# loop until the job successfully completes\u001b[0m\u001b[0;34m\u001b[0m\u001b[0;34m\u001b[0m\u001b[0m\n\u001b[1;32m      5\u001b[0m \u001b[0mprint\u001b[0m\u001b[0;34m(\u001b[0m \u001b[0;34m\"\\n==> Transcription Job: \"\u001b[0m \u001b[0;34m+\u001b[0m \u001b[0mresponse\u001b[0m\u001b[0;34m[\u001b[0m\u001b[0;34m\"TranscriptionJob\"\u001b[0m\u001b[0;34m]\u001b[0m\u001b[0;34m[\u001b[0m\u001b[0;34m\"TranscriptionJobName\"\u001b[0m\u001b[0;34m]\u001b[0m \u001b[0;34m+\u001b[0m \u001b[0;34m\"\\n\\tIn Progress\"\u001b[0m\u001b[0;34m)\u001b[0m\u001b[0;34m,\u001b[0m\u001b[0;34m\u001b[0m\u001b[0m\n",
      "\u001b[0;32m<ipython-input-37-d1345e8c38d1>\u001b[0m in \u001b[0;36mcreateTranscribeJob\u001b[0;34m(region, bucket, mediaFile)\u001b[0m\n\u001b[1;32m     10\u001b[0m \u001b[0;34m\u001b[0m\u001b[0m\n\u001b[1;32m     11\u001b[0m         \u001b[0;31m# Use the uuid functionality to generate a unique job name.  Otherwise, the Transcribe service will return an error\u001b[0m\u001b[0;34m\u001b[0m\u001b[0;34m\u001b[0m\u001b[0m\n\u001b[0;32m---> 12\u001b[0;31m         \u001b[0mresponse\u001b[0m \u001b[0;34m=\u001b[0m \u001b[0mtranscribe\u001b[0m\u001b[0;34m.\u001b[0m\u001b[0mstart_transcription_job\u001b[0m\u001b[0;34m(\u001b[0m \u001b[0mTranscriptionJobName\u001b[0m\u001b[0;34m=\u001b[0m\u001b[0;34m\"transcribe_\"\u001b[0m \u001b[0;34m+\u001b[0m \u001b[0muuid\u001b[0m\u001b[0;34m.\u001b[0m\u001b[0muuid4\u001b[0m\u001b[0;34m(\u001b[0m\u001b[0;34m)\u001b[0m\u001b[0;34m.\u001b[0m\u001b[0mhex\u001b[0m \u001b[0;34m+\u001b[0m \u001b[0;34m\"_\"\u001b[0m \u001b[0;34m+\u001b[0m \u001b[0mmediaFile\u001b[0m \u001b[0;34m,\u001b[0m\u001b[0mLanguageCode\u001b[0m \u001b[0;34m=\u001b[0m \u001b[0;34m\"en-US\"\u001b[0m\u001b[0;34m,\u001b[0m \u001b[0mMediaFormat\u001b[0m \u001b[0;34m=\u001b[0m \u001b[0;34m\"mp4\"\u001b[0m\u001b[0;34m,\u001b[0m \u001b[0mMedia\u001b[0m \u001b[0;34m=\u001b[0m \u001b[0;34m{\u001b[0m \u001b[0;34m\"MediaFileUri\"\u001b[0m \u001b[0;34m:\u001b[0m \u001b[0mmediaUri\u001b[0m \u001b[0;34m}\u001b[0m\u001b[0;34m,\u001b[0m \u001b[0mSettings\u001b[0m \u001b[0;34m=\u001b[0m \u001b[0;34m{\u001b[0m \u001b[0;34m\"VocabularyName\"\u001b[0m \u001b[0;34m:\u001b[0m \u001b[0;34m\"jpjvocabulary\"\u001b[0m \u001b[0;34m}\u001b[0m         \u001b[0;34m)\u001b[0m\u001b[0;34m\u001b[0m\u001b[0m\n\u001b[0m\u001b[1;32m     13\u001b[0m \u001b[0;34m\u001b[0m\u001b[0m\n\u001b[1;32m     14\u001b[0m         \u001b[0;31m# return the response structure found in the Transcribe Documentation\u001b[0m\u001b[0;34m\u001b[0m\u001b[0;34m\u001b[0m\u001b[0m\n",
      "\u001b[0;32m/anaconda/lib/python3.6/site-packages/botocore/client.py\u001b[0m in \u001b[0;36m_api_call\u001b[0;34m(self, *args, **kwargs)\u001b[0m\n\u001b[1;32m    312\u001b[0m                     \"%s() only accepts keyword arguments.\" % py_operation_name)\n\u001b[1;32m    313\u001b[0m             \u001b[0;31m# The \"self\" in this scope is referring to the BaseClient.\u001b[0m\u001b[0;34m\u001b[0m\u001b[0;34m\u001b[0m\u001b[0m\n\u001b[0;32m--> 314\u001b[0;31m             \u001b[0;32mreturn\u001b[0m \u001b[0mself\u001b[0m\u001b[0;34m.\u001b[0m\u001b[0m_make_api_call\u001b[0m\u001b[0;34m(\u001b[0m\u001b[0moperation_name\u001b[0m\u001b[0;34m,\u001b[0m \u001b[0mkwargs\u001b[0m\u001b[0;34m)\u001b[0m\u001b[0;34m\u001b[0m\u001b[0m\n\u001b[0m\u001b[1;32m    315\u001b[0m \u001b[0;34m\u001b[0m\u001b[0m\n\u001b[1;32m    316\u001b[0m         \u001b[0m_api_call\u001b[0m\u001b[0;34m.\u001b[0m\u001b[0m__name__\u001b[0m \u001b[0;34m=\u001b[0m \u001b[0mstr\u001b[0m\u001b[0;34m(\u001b[0m\u001b[0mpy_operation_name\u001b[0m\u001b[0;34m)\u001b[0m\u001b[0;34m\u001b[0m\u001b[0m\n",
      "\u001b[0;32m/anaconda/lib/python3.6/site-packages/botocore/client.py\u001b[0m in \u001b[0;36m_make_api_call\u001b[0;34m(self, operation_name, api_params)\u001b[0m\n\u001b[1;32m    610\u001b[0m             \u001b[0merror_code\u001b[0m \u001b[0;34m=\u001b[0m \u001b[0mparsed_response\u001b[0m\u001b[0;34m.\u001b[0m\u001b[0mget\u001b[0m\u001b[0;34m(\u001b[0m\u001b[0;34m\"Error\"\u001b[0m\u001b[0;34m,\u001b[0m \u001b[0;34m{\u001b[0m\u001b[0;34m}\u001b[0m\u001b[0;34m)\u001b[0m\u001b[0;34m.\u001b[0m\u001b[0mget\u001b[0m\u001b[0;34m(\u001b[0m\u001b[0;34m\"Code\"\u001b[0m\u001b[0;34m)\u001b[0m\u001b[0;34m\u001b[0m\u001b[0m\n\u001b[1;32m    611\u001b[0m             \u001b[0merror_class\u001b[0m \u001b[0;34m=\u001b[0m \u001b[0mself\u001b[0m\u001b[0;34m.\u001b[0m\u001b[0mexceptions\u001b[0m\u001b[0;34m.\u001b[0m\u001b[0mfrom_code\u001b[0m\u001b[0;34m(\u001b[0m\u001b[0merror_code\u001b[0m\u001b[0;34m)\u001b[0m\u001b[0;34m\u001b[0m\u001b[0m\n\u001b[0;32m--> 612\u001b[0;31m             \u001b[0;32mraise\u001b[0m \u001b[0merror_class\u001b[0m\u001b[0;34m(\u001b[0m\u001b[0mparsed_response\u001b[0m\u001b[0;34m,\u001b[0m \u001b[0moperation_name\u001b[0m\u001b[0;34m)\u001b[0m\u001b[0;34m\u001b[0m\u001b[0m\n\u001b[0m\u001b[1;32m    613\u001b[0m         \u001b[0;32melse\u001b[0m\u001b[0;34m:\u001b[0m\u001b[0;34m\u001b[0m\u001b[0m\n\u001b[1;32m    614\u001b[0m             \u001b[0;32mreturn\u001b[0m \u001b[0mparsed_response\u001b[0m\u001b[0;34m\u001b[0m\u001b[0m\n",
      "\u001b[0;31mBadRequestException\u001b[0m: An error occurred (BadRequestException) when calling the StartTranscriptionJob operation: The requested vocabulary couldn't be found. Check the vocabulary name and try your request again."
     ]
    }
   ],
   "source": [
    "# Create Transcription Job\n",
    "response = createTranscribeJob(\"us-west-2\", \"videotranslationjpj\", \"video_2.mp4\")\n",
    "\n",
    "# loop until the job successfully completes\n",
    "print( \"\\n==> Transcription Job: \" + response[\"TranscriptionJob\"][\"TranscriptionJobName\"] + \"\\n\\tIn Progress\"),\n",
    "\n",
    "while( response[\"TranscriptionJob\"][\"TranscriptionJobStatus\"] == \"IN_PROGRESS\"):\n",
    "    print( \".\"),\n",
    "    time.sleep( 30 )\n",
    "    response = getTranscriptionJobStatus( response[\"TranscriptionJob\"][\"TranscriptionJobName\"] )\n",
    "\n",
    "print( \"\\nJob Complete\")\n",
    "print( \"\\tStart Time: \" + str(response[\"TranscriptionJob\"][\"CreationTime\"]) )\n",
    "print( \"\\tEnd Time: \"  + str(response[\"TranscriptionJob\"][\"CompletionTime\"]) )\n",
    "print( \"\\tTranscript URI: \" + str(response[\"TranscriptionJob\"][\"Transcript\"][\"TranscriptFileUri\"]) )\n",
    "\n",
    "# Now get the transcript JSON from AWS Transcribe\n",
    "transcript = getTranscript( str(response[\"TranscriptionJob\"][\"Transcript\"][\"TranscriptFileUri\"]) ) \n",
    "# print( \"\\n==> Transcript: \\n\" + transcript)"
   ]
  },
  {
   "cell_type": "code",
   "execution_count": null,
   "metadata": {
    "collapsed": true
   },
   "outputs": [],
   "source": []
  }
 ],
 "metadata": {
  "kernelspec": {
   "display_name": "Python 3",
   "language": "python",
   "name": "python3"
  },
  "language_info": {
   "codemirror_mode": {
    "name": "ipython",
    "version": 3
   },
   "file_extension": ".py",
   "mimetype": "text/x-python",
   "name": "python",
   "nbconvert_exporter": "python",
   "pygments_lexer": "ipython3",
   "version": "3.6.5"
  }
 },
 "nbformat": 4,
 "nbformat_minor": 2
}
